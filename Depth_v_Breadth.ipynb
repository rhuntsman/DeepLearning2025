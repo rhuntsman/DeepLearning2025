{
  "nbformat": 4,
  "nbformat_minor": 0,
  "metadata": {
    "colab": {
      "provenance": [],
      "authorship_tag": "ABX9TyO/iEcnrN7RTe2DXzRxJl/I",
      "include_colab_link": true
    },
    "kernelspec": {
      "name": "python3",
      "display_name": "Python 3"
    },
    "language_info": {
      "name": "python"
    }
  },
  "cells": [
    {
      "cell_type": "markdown",
      "metadata": {
        "id": "view-in-github",
        "colab_type": "text"
      },
      "source": [
        "<a href=\"https://colab.research.google.com/github/rhuntsman/DeepLearning2025/blob/main/Depth_v_Breadth.ipynb\" target=\"_parent\"><img src=\"https://colab.research.google.com/assets/colab-badge.svg\" alt=\"Open In Colab\"/></a>"
      ]
    },
    {
      "cell_type": "code",
      "execution_count": 22,
      "metadata": {
        "colab": {
          "base_uri": "https://localhost:8080/"
        },
        "id": "6RaivmK-VJYX",
        "outputId": "8f0bc927-2d3e-4798-cc5b-e5cc35074c58"
      },
      "outputs": [
        {
          "output_type": "stream",
          "name": "stderr",
          "text": [
            "<ipython-input-22-9057d05cc560>:7: DeprecationWarning: `set_matplotlib_formats` is deprecated since IPython 7.23, directly use `matplotlib_inline.backend_inline.set_matplotlib_formats()`\n",
            "  display.set_matplotlib_formats('svg')\n"
          ]
        }
      ],
      "source": [
        "import numpy as np\n",
        "import matplotlib.pyplot as plt\n",
        "import torch\n",
        "import torch.nn as nn\n",
        "import torch.nn.functional as F\n",
        "from IPython import display\n",
        "display.set_matplotlib_formats('svg')\n",
        "import seaborn as sns\n"
      ]
    },
    {
      "cell_type": "code",
      "source": [
        "iris = sns.load_dataset('iris')\n",
        "\n",
        "data = torch.tensor(iris[iris.columns[0:4]].values).float()"
      ],
      "metadata": {
        "id": "BzYI-vSJM915"
      },
      "execution_count": 25,
      "outputs": []
    },
    {
      "cell_type": "code",
      "source": [
        "labels = torch.zeros(len(data), dtype=torch.long)\n",
        "\n",
        "labels[iris.species=='versicolor'] = 1\n",
        "labels[iris.species=='virginica'] = 2\n",
        "\n",
        "labels"
      ],
      "metadata": {
        "id": "KrQoeNVrYEhW",
        "colab": {
          "base_uri": "https://localhost:8080/"
        },
        "outputId": "5ec43e6e-c137-4c42-c021-9c38bfdd5cf6"
      },
      "execution_count": 53,
      "outputs": [
        {
          "output_type": "execute_result",
          "data": {
            "text/plain": [
              "tensor([0, 0, 0, 0, 0, 0, 0, 0, 0, 0, 0, 0, 0, 0, 0, 0, 0, 0, 0, 0, 0, 0, 0, 0,\n",
              "        0, 0, 0, 0, 0, 0, 0, 0, 0, 0, 0, 0, 0, 0, 0, 0, 0, 0, 0, 0, 0, 0, 0, 0,\n",
              "        0, 0, 1, 1, 1, 1, 1, 1, 1, 1, 1, 1, 1, 1, 1, 1, 1, 1, 1, 1, 1, 1, 1, 1,\n",
              "        1, 1, 1, 1, 1, 1, 1, 1, 1, 1, 1, 1, 1, 1, 1, 1, 1, 1, 1, 1, 1, 1, 1, 1,\n",
              "        1, 1, 1, 1, 2, 2, 2, 2, 2, 2, 2, 2, 2, 2, 2, 2, 2, 2, 2, 2, 2, 2, 2, 2,\n",
              "        2, 2, 2, 2, 2, 2, 2, 2, 2, 2, 2, 2, 2, 2, 2, 2, 2, 2, 2, 2, 2, 2, 2, 2,\n",
              "        2, 2, 2, 2, 2, 2])"
            ]
          },
          "metadata": {},
          "execution_count": 53
        }
      ]
    },
    {
      "cell_type": "code",
      "source": [
        "class ANNIris(nn.Module):\n",
        "  def __init__(self, nUnits, nLayers):\n",
        "    super().__init__()\n",
        "\n",
        "    self.layers = nn.ModuleDict()\n",
        "    self.nLayers = nLayers\n",
        "\n",
        "    self.layers['input'] = nn.Linear(4,nUnits)\n",
        "\n",
        "    for i in range(nLayers):\n",
        "      self.layers[f'hidden{i}'] = nn.Linear(nUnits, nUnits)\n",
        "\n",
        "    self.layers['output'] = nn.Linear(nUnits, 3)\n",
        "\n",
        "    # forward pass\n",
        "\n",
        "  def forward(self, x):\n",
        "    x = self.layers['input'](x)\n",
        "\n",
        "  # hidden layers\n",
        "    for i in range(self.nLayers):\n",
        "      x = F.relu( self.layers[f'hidden{i}'](x) )\n",
        "\n",
        "  # return output layer\n",
        "    x = self.layers['output'](x)\n",
        "    return x"
      ],
      "metadata": {
        "id": "Md4EukARYWuQ"
      },
      "execution_count": 54,
      "outputs": []
    },
    {
      "cell_type": "code",
      "source": [
        "nUnitsPerLayer = 12\n",
        "nLayers = 4\n",
        "net = ANNIris(nUnitsPerLayer, nLayers)\n",
        "net"
      ],
      "metadata": {
        "colab": {
          "base_uri": "https://localhost:8080/"
        },
        "id": "K2T1LBysQbFs",
        "outputId": "96e117eb-ed5c-4aea-bab9-7d6250932413"
      },
      "execution_count": 55,
      "outputs": [
        {
          "output_type": "execute_result",
          "data": {
            "text/plain": [
              "ANNIris(\n",
              "  (layers): ModuleDict(\n",
              "    (input): Linear(in_features=4, out_features=12, bias=True)\n",
              "    (hidden0): Linear(in_features=12, out_features=12, bias=True)\n",
              "    (hidden1): Linear(in_features=12, out_features=12, bias=True)\n",
              "    (hidden2): Linear(in_features=12, out_features=12, bias=True)\n",
              "    (hidden3): Linear(in_features=12, out_features=12, bias=True)\n",
              "    (output): Linear(in_features=12, out_features=3, bias=True)\n",
              "  )\n",
              ")"
            ]
          },
          "metadata": {},
          "execution_count": 55
        }
      ]
    },
    {
      "cell_type": "code",
      "source": [
        "test = torch.randn(10,4)\n",
        "\n",
        "y = net(test)\n",
        "\n",
        "print( y.shape ), print(' ')\n",
        "\n",
        "print(y)"
      ],
      "metadata": {
        "colab": {
          "base_uri": "https://localhost:8080/"
        },
        "id": "WtBPVK2pRD8W",
        "outputId": "cfee48b6-90c6-431a-9672-60fb1e8b7e51"
      },
      "execution_count": 56,
      "outputs": [
        {
          "output_type": "stream",
          "name": "stdout",
          "text": [
            "torch.Size([10, 3])\n",
            " \n",
            "tensor([[-0.0691, -0.1221, -0.2899],\n",
            "        [-0.0747, -0.1243, -0.2900],\n",
            "        [-0.0722, -0.1273, -0.2922],\n",
            "        [-0.0673, -0.1336, -0.2837],\n",
            "        [-0.0723, -0.1286, -0.2821],\n",
            "        [-0.0621, -0.1318, -0.2748],\n",
            "        [-0.0739, -0.1269, -0.2848],\n",
            "        [-0.0771, -0.1246, -0.2829],\n",
            "        [-0.0710, -0.1301, -0.2906],\n",
            "        [-0.0705, -0.1219, -0.2888]], grad_fn=<AddmmBackward0>)\n"
          ]
        }
      ]
    },
    {
      "cell_type": "code",
      "source": [
        "def trainModel(model):\n",
        "\n",
        "  lossFunction = nn.CrossEntropyLoss()\n",
        "  optimizer = torch.optim.SGD(model.parameters(), lr=0.01)\n",
        "\n",
        "  for epoch_i in range(nEpochs):\n",
        "\n",
        "    # make predictions\n",
        "    y_hat = model(data)\n",
        "\n",
        "    # calculate the loss\n",
        "    loss = lossFunction(y_hat, labels)\n",
        "\n",
        "    # backpropagation\n",
        "    optimizer.zero_grad()\n",
        "    loss.backward()\n",
        "    optimizer.step()\n",
        "\n",
        "\n",
        "  predictions = model(data)\n",
        "  predLabels = torch.argmax(predictions, axis=1)\n",
        "  acc = torch.mean((predLabels == labels).float())\n",
        "\n",
        "  nParams = sum(p.numel() for p in model.parameters() if p.requires_grad)\n",
        "\n",
        "  return acc, nParams\n",
        "\n"
      ],
      "metadata": {
        "id": "KE94Hwj0Tw0B"
      },
      "execution_count": 58,
      "outputs": []
    },
    {
      "cell_type": "code",
      "source": [
        "# Test model\n",
        "nEpochs = 2500\n",
        "acc = trainModel(net)\n",
        "\n",
        "print(acc)"
      ],
      "metadata": {
        "colab": {
          "base_uri": "https://localhost:8080/"
        },
        "id": "ISMRTQceVLBO",
        "outputId": "de4f7afc-709e-42d2-9e57-b2bec5419599"
      },
      "execution_count": 60,
      "outputs": [
        {
          "output_type": "stream",
          "name": "stdout",
          "text": [
            "(tensor(0.9800), 723)\n"
          ]
        }
      ]
    },
    {
      "cell_type": "code",
      "source": [
        "# define model paramters\n",
        "n_layers = range(1,6)\n",
        "n_units = range(4,101,3)\n",
        "\n",
        "# initialize output matrices\n",
        "accuracies = np.zeros((len(n_units), len(n_layers)))\n",
        "total_parameters = np.zeros((len(n_units), len(n_layers)))\n",
        "\n",
        "n_epochs = 500\n",
        "\n",
        "for unit_idx in range(len(n_units)):\n",
        "  for layer_idx in range(len(n_layers)):\n",
        "    net = ANNIris(n_units[unit_idx], n_layers[layer_idx])\n",
        "\n",
        "    acc, n_parameters = trainModel(net)\n",
        "    accuracies[unit_idx, layer_idx] = acc\n",
        "    total_parameters[unit_idx, layer_idx] = n_parameters\n",
        "\n",
        "\n"
      ],
      "metadata": {
        "id": "5fLP3wLSW7bK"
      },
      "execution_count": 62,
      "outputs": []
    },
    {
      "cell_type": "code",
      "source": [
        "total_parameters"
      ],
      "metadata": {
        "colab": {
          "base_uri": "https://localhost:8080/"
        },
        "id": "q35v5gL9aYHG",
        "outputId": "898006cf-68d1-4796-a59f-6b739cbe734d"
      },
      "execution_count": 65,
      "outputs": [
        {
          "output_type": "execute_result",
          "data": {
            "text/plain": [
              "array([[   55.,    75.,    95.,   115.,   135.],\n",
              "       [  115.,   171.,   227.,   283.,   339.],\n",
              "       [  193.,   303.,   413.,   523.,   633.],\n",
              "       [  289.,   471.,   653.,   835.,  1017.],\n",
              "       [  403.,   675.,   947.,  1219.,  1491.],\n",
              "       [  535.,   915.,  1295.,  1675.,  2055.],\n",
              "       [  685.,  1191.,  1697.,  2203.,  2709.],\n",
              "       [  853.,  1503.,  2153.,  2803.,  3453.],\n",
              "       [ 1039.,  1851.,  2663.,  3475.,  4287.],\n",
              "       [ 1243.,  2235.,  3227.,  4219.,  5211.],\n",
              "       [ 1465.,  2655.,  3845.,  5035.,  6225.],\n",
              "       [ 1705.,  3111.,  4517.,  5923.,  7329.],\n",
              "       [ 1963.,  3603.,  5243.,  6883.,  8523.],\n",
              "       [ 2239.,  4131.,  6023.,  7915.,  9807.],\n",
              "       [ 2533.,  4695.,  6857.,  9019., 11181.],\n",
              "       [ 2845.,  5295.,  7745., 10195., 12645.],\n",
              "       [ 3175.,  5931.,  8687., 11443., 14199.],\n",
              "       [ 3523.,  6603.,  9683., 12763., 15843.],\n",
              "       [ 3889.,  7311., 10733., 14155., 17577.],\n",
              "       [ 4273.,  8055., 11837., 15619., 19401.],\n",
              "       [ 4675.,  8835., 12995., 17155., 21315.],\n",
              "       [ 5095.,  9651., 14207., 18763., 23319.],\n",
              "       [ 5533., 10503., 15473., 20443., 25413.],\n",
              "       [ 5989., 11391., 16793., 22195., 27597.],\n",
              "       [ 6463., 12315., 18167., 24019., 29871.],\n",
              "       [ 6955., 13275., 19595., 25915., 32235.],\n",
              "       [ 7465., 14271., 21077., 27883., 34689.],\n",
              "       [ 7993., 15303., 22613., 29923., 37233.],\n",
              "       [ 8539., 16371., 24203., 32035., 39867.],\n",
              "       [ 9103., 17475., 25847., 34219., 42591.],\n",
              "       [ 9685., 18615., 27545., 36475., 45405.],\n",
              "       [10285., 19791., 29297., 38803., 48309.],\n",
              "       [10903., 21003., 31103., 41203., 51303.]])"
            ]
          },
          "metadata": {},
          "execution_count": 65
        }
      ]
    }
  ]
}